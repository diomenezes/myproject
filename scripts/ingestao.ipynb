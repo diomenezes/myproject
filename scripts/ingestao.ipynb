{
 "cells": [
  {
   "cell_type": "markdown",
   "id": "08897f37",
   "metadata": {},
   "source": [
    "IMPORTACAO DAS LIBS QUE VAMOS USAR NO PROJETO"
   ]
  },
  {
   "cell_type": "code",
   "execution_count": 31,
   "id": "57c2c8ef",
   "metadata": {},
   "outputs": [],
   "source": [
    "import duckdb\n",
    "import pandas as pd\n",
    "import os\n",
    "from datetime import datetime"
   ]
  },
  {
   "cell_type": "markdown",
   "id": "511cf304",
   "metadata": {},
   "source": [
    "CIANDO UM BANCO LOCAL DO PROJETO E FAZENDO SUA CONEXAO"
   ]
  },
  {
   "cell_type": "code",
   "execution_count": 32,
   "id": "5cb42608",
   "metadata": {},
   "outputs": [],
   "source": [
    "con = duckdb.connect(database='dados_duckdb.db', read_only=False)"
   ]
  },
  {
   "cell_type": "markdown",
   "id": "c84e5fc2",
   "metadata": {},
   "source": [
    "FAZENDO A LEITURA DOS ARQUIVOS csv \n",
    "Como tem dois arquivos, devemos desconmentar um por ver,\n",
    "Exibi no final do que foi lido"
   ]
  },
  {
   "cell_type": "code",
   "execution_count": 33,
   "id": "746061d9",
   "metadata": {},
   "outputs": [
    {
     "data": {
      "text/html": [
       "<div>\n",
       "<style scoped>\n",
       "    .dataframe tbody tr th:only-of-type {\n",
       "        vertical-align: middle;\n",
       "    }\n",
       "\n",
       "    .dataframe tbody tr th {\n",
       "        vertical-align: top;\n",
       "    }\n",
       "\n",
       "    .dataframe thead th {\n",
       "        text-align: right;\n",
       "    }\n",
       "</style>\n",
       "<table border=\"1\" class=\"dataframe\">\n",
       "  <thead>\n",
       "    <tr style=\"text-align: right;\">\n",
       "      <th></th>\n",
       "      <th>NATBR</th>\n",
       "      <th>MAKTX</th>\n",
       "      <th>WEKS</th>\n",
       "      <th>MAINS</th>\n",
       "      <th>LABST</th>\n",
       "      <th>nome_arquivo</th>\n",
       "      <th>data_ingestao</th>\n",
       "    </tr>\n",
       "  </thead>\n",
       "  <tbody>\n",
       "    <tr>\n",
       "      <th>0</th>\n",
       "      <td>1004</td>\n",
       "      <td>SERRA</td>\n",
       "      <td>BT10</td>\n",
       "      <td>100</td>\n",
       "      <td>200</td>\n",
       "      <td>z0019_2.csv</td>\n",
       "      <td>2025-09-10 10:03:16.743264</td>\n",
       "    </tr>\n",
       "    <tr>\n",
       "      <th>1</th>\n",
       "      <td>1005</td>\n",
       "      <td>MACHADO</td>\n",
       "      <td>BT10</td>\n",
       "      <td>100</td>\n",
       "      <td>100</td>\n",
       "      <td>z0019_2.csv</td>\n",
       "      <td>2025-09-10 10:03:16.743264</td>\n",
       "    </tr>\n",
       "    <tr>\n",
       "      <th>2</th>\n",
       "      <td>1003</td>\n",
       "      <td>PREGO</td>\n",
       "      <td>BT10</td>\n",
       "      <td>100</td>\n",
       "      <td>60</td>\n",
       "      <td>z0019_2.csv</td>\n",
       "      <td>2025-09-10 10:03:16.743264</td>\n",
       "    </tr>\n",
       "  </tbody>\n",
       "</table>\n",
       "</div>"
      ],
      "text/plain": [
       "   NATBR    MAKTX  WEKS  MAINS  LABST nome_arquivo              data_ingestao\n",
       "0   1004    SERRA  BT10    100    200  z0019_2.csv 2025-09-10 10:03:16.743264\n",
       "1   1005  MACHADO  BT10    100    100  z0019_2.csv 2025-09-10 10:03:16.743264\n",
       "2   1003    PREGO  BT10    100     60  z0019_2.csv 2025-09-10 10:03:16.743264"
      ]
     },
     "execution_count": 33,
     "metadata": {},
     "output_type": "execute_result"
    }
   ],
   "source": [
    "#df = pd.read_csv('../landing/z0019_2.csv', sep=';')\n",
    "#arquivo = 'z0019_1.csv'\n",
    "arquivo = 'z0019_2.csv'\n",
    "data_ingestao = datetime.now()\n",
    "\n",
    "df = pd.read_csv(f'../landing/{arquivo}', sep=';')\n",
    "df['nome_arquivo'] = arquivo\n",
    "df['data_ingestao'] = data_ingestao\n",
    "\n",
    "df.head()\n"
   ]
  },
  {
   "cell_type": "markdown",
   "id": "12045347",
   "metadata": {},
   "source": [
    "CRIANDO A TABELA, SE ELA NAO EXISTIR"
   ]
  },
  {
   "cell_type": "code",
   "execution_count": 34,
   "id": "e054a0b7",
   "metadata": {},
   "outputs": [
    {
     "data": {
      "text/plain": [
       "<duckdb.duckdb.DuckDBPyConnection at 0x7f8d061384b0>"
      ]
     },
     "execution_count": 34,
     "metadata": {},
     "output_type": "execute_result"
    }
   ],
   "source": [
    "con.execute(\"\"\"\n",
    "CREATE TABLE IF NOT EXISTS bronze_produtos (\n",
    "    NATBR VARCHAR,\n",
    "    MAKTX VARCHAR,\n",
    "    WEKS VARCHAR, \n",
    "    MAINS VARCHAR,        \n",
    "    LABST INTEGER,\n",
    "    nome_arquivo VARCHAR,\n",
    "    data_ingestao TIMESTAMP\n",
    ");\n",
    "\"\"\")"
   ]
  },
  {
   "cell_type": "markdown",
   "id": "5a1a2e55",
   "metadata": {},
   "source": [
    "REALIZANDO A INSERCAO DO DF NA TABELA QUE FOI CRIADA ACIMA"
   ]
  },
  {
   "cell_type": "code",
   "execution_count": 35,
   "id": "781d2a1a",
   "metadata": {},
   "outputs": [
    {
     "data": {
      "text/plain": [
       "<duckdb.duckdb.DuckDBPyConnection at 0x7f8d061384b0>"
      ]
     },
     "execution_count": 35,
     "metadata": {},
     "output_type": "execute_result"
    }
   ],
   "source": [
    "con.execute(\"INSERT INTO bronze_produtos SELECT * FROM df\")"
   ]
  },
  {
   "cell_type": "markdown",
   "id": "453ae50e",
   "metadata": {},
   "source": [
    "EXIBINDO TUSO O QUE FOI INSERIDO NA TABELA"
   ]
  },
  {
   "cell_type": "code",
   "execution_count": null,
   "id": "42a34a9a",
   "metadata": {},
   "outputs": [
    {
     "name": "stdout",
     "output_type": "stream",
     "text": [
      "  NATBR     MAKTX  WEKS MAINS  LABST nome_arquivo              data_ingestao\n",
      "0  1001  PARAFUSO  BT10   100    100  z0019_1.csv 2025-09-10 10:03:04.652401\n",
      "1  1002   MARTELO  BT50   100   1500  z0019_1.csv 2025-09-10 10:03:04.652401\n",
      "2  1003     PREGO  BT10   100     50  z0019_1.csv 2025-09-10 10:03:04.652401\n",
      "3  1004     SERRA  BT10   100    200  z0019_2.csv 2025-09-10 10:03:16.743264\n",
      "4  1005   MACHADO  BT10   100    100  z0019_2.csv 2025-09-10 10:03:16.743264\n",
      "5  1003     PREGO  BT10   100     60  z0019_2.csv 2025-09-10 10:03:16.743264\n"
     ]
    },
    {
     "data": {
      "text/plain": [
       "<duckdb.duckdb.DuckDBPyConnection at 0x7f8d061384b0>"
      ]
     },
     "execution_count": 37,
     "metadata": {},
     "output_type": "execute_result"
    }
   ],
   "source": [
    "result = con.execute(\"SELECT * FROM bronze_produtos\").fetchdf()\n",
    "print(result)"
   ]
  },
  {
   "cell_type": "markdown",
   "id": "b5e6ef0c",
   "metadata": {},
   "source": [
    "RENOMEANDO A TABELA PARA DEIXAR NO MESMO NOME QUE ELA VEM."
   ]
  },
  {
   "cell_type": "code",
   "execution_count": null,
   "id": "fb071d18",
   "metadata": {},
   "outputs": [],
   "source": [
    "con.execute(\"ALTER TABLE bronze_produtos RENAME TO bronze_z0019\")"
   ]
  },
  {
   "cell_type": "markdown",
   "id": "fe011fe0",
   "metadata": {},
   "source": [
    "EXIBINDO O CONTEUDO DA TABELA"
   ]
  },
  {
   "cell_type": "code",
   "execution_count": 38,
   "id": "cf9063b9",
   "metadata": {},
   "outputs": [
    {
     "name": "stdout",
     "output_type": "stream",
     "text": [
      "  NATBR     MAKTX  WEKS MAINS  LABST nome_arquivo              data_ingestao\n",
      "0  1001  PARAFUSO  BT10   100    100  z0019_1.csv 2025-09-10 10:03:04.652401\n",
      "1  1002   MARTELO  BT50   100   1500  z0019_1.csv 2025-09-10 10:03:04.652401\n",
      "2  1003     PREGO  BT10   100     50  z0019_1.csv 2025-09-10 10:03:04.652401\n",
      "3  1004     SERRA  BT10   100    200  z0019_2.csv 2025-09-10 10:03:16.743264\n",
      "4  1005   MACHADO  BT10   100    100  z0019_2.csv 2025-09-10 10:03:16.743264\n",
      "5  1003     PREGO  BT10   100     60  z0019_2.csv 2025-09-10 10:03:16.743264\n"
     ]
    }
   ],
   "source": [
    "result = con.execute(\"SELECT * FROM bronze_z0019\").fetchdf()\n",
    "print(result)"
   ]
  },
  {
   "cell_type": "markdown",
   "id": "ff763e65",
   "metadata": {},
   "source": [
    "FECHANDO A CONEXAO"
   ]
  },
  {
   "cell_type": "code",
   "execution_count": 39,
   "id": "df86a54e",
   "metadata": {},
   "outputs": [],
   "source": [
    "\n",
    "con.close()"
   ]
  }
 ],
 "metadata": {
  "kernelspec": {
   "display_name": "Python 3",
   "language": "python",
   "name": "python3"
  },
  "language_info": {
   "codemirror_mode": {
    "name": "ipython",
    "version": 3
   },
   "file_extension": ".py",
   "mimetype": "text/x-python",
   "name": "python",
   "nbconvert_exporter": "python",
   "pygments_lexer": "ipython3",
   "version": "3.12.11"
  }
 },
 "nbformat": 4,
 "nbformat_minor": 5
}
